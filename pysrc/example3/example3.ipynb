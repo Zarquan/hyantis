{
 "cells": [
  {
   "cell_type": "markdown",
   "metadata": {},
   "source": [
    "# A demo program to query an ObsTAP service with local positions\n",
    "It uses the previously retrieved neutrino event positions"
   ]
  },
  {
   "cell_type": "code",
   "execution_count": null,
   "metadata": {},
   "outputs": [],
   "source": [
    "from astropy.table import Table\n",
    "import pyvo"
   ]
  },
  {
   "cell_type": "code",
   "execution_count": null,
   "metadata": {},
   "outputs": [],
   "source": [
    "import sys\n",
    "import warnings\n",
    "\n",
    "if not sys.warnoptions:\n",
    "    warnings.simplefilter(\"ignore\")"
   ]
  },
  {
   "cell_type": "code",
   "execution_count": null,
   "metadata": {},
   "outputs": [],
   "source": [
    "# ADQL query with JOIN on local table and positional crossmatch\n",
    "QUERY=\"\"\"\n",
    "SELECT\n",
    "   TOP 50\n",
    "   *\n",
    "   FROM ivoa.obscore AS db\n",
    "   JOIN TAP_UPLOAD.lt AS mine\n",
    "   ON 1=CONTAINS (POINT('ICRS', db.s_ra, db.s_dec),\n",
    "                 CIRCLE('ICRS', mine.RA, mine.Decl, mine.Beta))\n",
    "   AND db.dataproduct_type='image'\n",
    "\"\"\""
   ]
  },
  {
   "cell_type": "code",
   "execution_count": null,
   "metadata": {},
   "outputs": [],
   "source": [
    "# Try to load neutrino file from example2 \n",
    "try:\n",
    "  lt = Table.read('../example2/neutrinos.vot', format='votable')\n",
    "\n",
    "# Or get the fallback file\n",
    "except: \n",
    "  lt = Table.read('fallback.vot', format='votable')"
   ]
  },
  {
   "cell_type": "code",
   "execution_count": null,
   "metadata": {},
   "outputs": [],
   "source": [
    "# Make Service Object\n",
    "service = pyvo.dal.TAPService (\"http://dc.zah.uni-heidelberg.de/tap\")\n",
    "\n",
    "# Run Search on obscore table on the GAVO dc\n",
    "result = service.run_async(query=QUERY, uploads={\"lt\":lt})\n",
    "\n",
    "# Send resulting table to Topcat via SAMP\n",
    "result.broadcast_samp(\"topcat\")"
   ]
  },
  {
   "cell_type": "markdown",
   "metadata": {},
   "source": [
    "See *examples 1 & 2* for commands to inspect the **result** table here."
   ]
  }
 ],
 "metadata": {
  "kernelspec": {
   "display_name": "Python 3",
   "language": "python",
   "name": "python3"
  },
  "language_info": {
   "codemirror_mode": {
    "name": "ipython",
    "version": 3
   },
   "file_extension": ".py",
   "mimetype": "text/x-python",
   "name": "python",
   "nbconvert_exporter": "python",
   "pygments_lexer": "ipython3",
   "version": "3.7.9"
  }
 },
 "nbformat": 4,
 "nbformat_minor": 4
}
